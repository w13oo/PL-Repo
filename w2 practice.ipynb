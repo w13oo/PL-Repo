{
 "cells": [
  {
   "cell_type": "code",
   "execution_count": 2,
   "id": "124128eb",
   "metadata": {},
   "outputs": [
    {
     "name": "stdout",
     "output_type": "stream",
     "text": [
      "{'海葵', '海星', '海藻', '海螺'} {'海藻', '海星'}\n"
     ]
    }
   ],
   "source": [
    "#set\n",
    "x={\"海星\",\"海葵\",\"海藻\",\"海螺\"}\n",
    "y={\"海星\",\"海藻\"}\n",
    "print(x,y)\n"
   ]
  },
  {
   "cell_type": "code",
   "execution_count": 3,
   "id": "ce9b1bdd",
   "metadata": {},
   "outputs": [
    {
     "name": "stdout",
     "output_type": "stream",
     "text": [
      "{'海藻', '海星'}\n"
     ]
    }
   ],
   "source": [
    "x={\"海星\",\"海葵\",\"海藻\",\"海螺\"}\n",
    "y={\"海星\",\"海藻\",\"海馬\"}\n",
    "\n",
    "#交集 intersection(一樣的)\n",
    "print(x&y)"
   ]
  },
  {
   "cell_type": "code",
   "execution_count": 4,
   "id": "d528201a",
   "metadata": {},
   "outputs": [
    {
     "name": "stdout",
     "output_type": "stream",
     "text": [
      "{'海葵', '海星', '海螺', '海馬', '海藻'}\n"
     ]
    }
   ],
   "source": [
    "x={\"海星\",\"海葵\",\"海藻\",\"海螺\"}\n",
    "y={\"海星\",\"海藻\",\"海馬\"}\n",
    "\n",
    "#聯集 union(全部)\n",
    "print(x|y)"
   ]
  },
  {
   "cell_type": "code",
   "execution_count": 5,
   "id": "9eb13a63",
   "metadata": {},
   "outputs": [
    {
     "name": "stdout",
     "output_type": "stream",
     "text": [
      "{'海葵', '海螺'}\n",
      "{'海馬'}\n"
     ]
    }
   ],
   "source": [
    "x={\"海星\",\"海葵\",\"海藻\",\"海螺\"}\n",
    "y={\"海星\",\"海藻\",\"海馬\"}\n",
    "\n",
    "#差集 difference(不一樣的)\n",
    "print(x-y)\n",
    "print(y-x)"
   ]
  },
  {
   "cell_type": "code",
   "execution_count": 6,
   "id": "3e0e62f5",
   "metadata": {},
   "outputs": [
    {
     "name": "stdout",
     "output_type": "stream",
     "text": [
      "{'海葵', '海螺', '海馬'}\n"
     ]
    }
   ],
   "source": [
    "x={\"海星\",\"海葵\",\"海藻\",\"海螺\"}\n",
    "y={\"海星\",\"海藻\",\"海馬\"}\n",
    "\n",
    "#對稱差集（全部減一樣的）\n",
    "print(x^y)"
   ]
  },
  {
   "cell_type": "code",
   "execution_count": null,
   "id": "89c19cc7",
   "metadata": {},
   "outputs": [],
   "source": []
  }
 ],
 "metadata": {
  "kernelspec": {
   "display_name": "Python 3 (ipykernel)",
   "language": "python",
   "name": "python3"
  },
  "language_info": {
   "codemirror_mode": {
    "name": "ipython",
    "version": 3
   },
   "file_extension": ".py",
   "mimetype": "text/x-python",
   "name": "python",
   "nbconvert_exporter": "python",
   "pygments_lexer": "ipython3",
   "version": "3.9.13"
  }
 },
 "nbformat": 4,
 "nbformat_minor": 5
}
